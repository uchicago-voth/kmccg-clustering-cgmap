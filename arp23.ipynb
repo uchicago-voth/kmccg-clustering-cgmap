{
 "cells": [
  {
   "cell_type": "code",
   "execution_count": 1,
   "metadata": {},
   "outputs": [],
   "source": [
    "import numpy as np, matplotlib.pyplot as plt\n",
    "import MDAnalysis as mda\n",
    "from CG_cluster import *\n",
    "\n",
    "# Please cite this paper if you think this notebook is useful for your research! Thank you very much!\n",
    "# https://pubs.acs.org/doi/10.1021/acs.jctc.3c01053\n",
    "# Jiangbo Wu, Weizhi Xue, and Gregory A. Voth\n",
    "# K-Means Clustering Coarse-Graining (KMC-CG): A Next Generation Methodology for Determining Optimal Coarse-Grained Mappings of Large Biomolecules\n",
    "# J. Chem. Theory Comput. 2023"
   ]
  },
  {
   "cell_type": "code",
   "execution_count": 2,
   "metadata": {},
   "outputs": [
    {
     "name": "stderr",
     "output_type": "stream",
     "text": [
      "Warning: importing 'simtk.openmm' is deprecated.  Import 'openmm' instead.\n"
     ]
    }
   ],
   "source": [
    "#####start editing#####\n",
    "system_info = mda.Universe(\"md.pdb\", \"md.trr\")\n",
    "#load your structure file and trajectory here\n",
    "#####end editing#####\n",
    "protein = system_info.select_atoms(\"protein\") # select protein atoms"
   ]
  },
  {
   "cell_type": "markdown",
   "metadata": {},
   "source": [
    "## Chain A/B means Arp 2/3"
   ]
  },
  {
   "cell_type": "markdown",
   "metadata": {},
   "source": [
    "## Chain A/B"
   ]
  },
  {
   "cell_type": "code",
   "execution_count": 3,
   "metadata": {
    "collapsed": true,
    "jupyter": {
     "outputs_hidden": true
    },
    "tags": []
   },
   "outputs": [
    {
     "name": "stdout",
     "output_type": "stream",
     "text": [
      "Calculating RMSF list for all atoms:\n",
      "Trial 1\n",
      "Initial optimization complete. Steps = 35, Chi_square = 3552.4025\n",
      "Second phase optimization complete. Steps = 49083, Chi_square = 1460.1468\n",
      "Trial 2\n",
      "Initial optimization complete. Steps = 50, Chi_square = 4626.1219\n",
      "Second phase optimization complete. Steps = 59016, Chi_square = 1863.4337\n",
      "Trial 3\n",
      "Initial optimization complete. Steps = 49, Chi_square = 3616.5150\n",
      "Second phase optimization complete. Steps = 78214, Chi_square = 1657.1408\n",
      "Trial 4\n",
      "Initial optimization complete. Steps = 48, Chi_square = 4081.6248\n",
      "Second phase optimization complete. Steps = 28351, Chi_square = 1394.1220\n",
      "Trial 5\n",
      "Initial optimization complete. Steps = 37, Chi_square = 4354.8773\n",
      "Second phase optimization complete. Steps = 22934, Chi_square = 1808.4347\n",
      "Trial 6\n",
      "Initial optimization complete. Steps = 40, Chi_square = 3521.7800\n",
      "Second phase optimization complete. Steps = 51403, Chi_square = 1431.2787\n",
      "Trial 7\n",
      "Initial optimization complete. Steps = 36, Chi_square = 3782.2220\n",
      "Second phase optimization complete. Steps = 42475, Chi_square = 1893.6760\n",
      "Trial 8\n",
      "Initial optimization complete. Steps = 38, Chi_square = 4654.2713\n",
      "Second phase optimization complete. Steps = 20889, Chi_square = 1575.0280\n",
      "Trial 9\n",
      "Initial optimization complete. Steps = 50, Chi_square = 3419.1581\n",
      "Second phase optimization complete. Steps = 32175, Chi_square = 1930.0624\n",
      "Trial 10\n",
      "Initial optimization complete. Steps = 38, Chi_square = 5657.2969\n",
      "Second phase optimization complete. Steps = 60822, Chi_square = 1826.1229\n",
      "Trial 11\n",
      "Initial optimization complete. Steps = 35, Chi_square = 5445.1113\n",
      "Second phase optimization complete. Steps = 40509, Chi_square = 1857.3043\n",
      "Trial 12\n",
      "Initial optimization complete. Steps = 34, Chi_square = 4357.7430\n",
      "Second phase optimization complete. Steps = 50992, Chi_square = 1997.9715\n",
      "Trial 13\n",
      "Initial optimization complete. Steps = 31, Chi_square = 3816.1508\n",
      "Second phase optimization complete. Steps = 29825, Chi_square = 1262.4871\n",
      "Trial 14\n",
      "Initial optimization complete. Steps = 31, Chi_square = 3317.7027\n",
      "Second phase optimization complete. Steps = 44881, Chi_square = 1990.6983\n",
      "Trial 15\n",
      "Initial optimization complete. Steps = 35, Chi_square = 3734.8967\n",
      "Second phase optimization complete. Steps = 60722, Chi_square = 1476.7424\n",
      "Trial 16\n",
      "Initial optimization complete. Steps = 31, Chi_square = 3687.0963\n",
      "Second phase optimization complete. Steps = 35937, Chi_square = 2027.4728\n",
      "Trial 17\n",
      "Initial optimization complete. Steps = 39, Chi_square = 5576.7683\n",
      "Second phase optimization complete. Steps = 42362, Chi_square = 1994.2103\n",
      "Trial 18\n",
      "Initial optimization complete. Steps = 40, Chi_square = 4955.3878\n",
      "Second phase optimization complete. Steps = 24906, Chi_square = 2364.7854\n",
      "Trial 19\n",
      "Initial optimization complete. Steps = 41, Chi_square = 6449.2427\n",
      "Second phase optimization complete. Steps = 53854, Chi_square = 1685.2060\n",
      "Trial 20\n",
      "Initial optimization complete. Steps = 45, Chi_square = 3620.5643\n",
      "Second phase optimization complete. Steps = 42206, Chi_square = 1460.4290\n",
      "Trial 21\n",
      "Initial optimization complete. Steps = 49, Chi_square = 4782.6621\n",
      "Second phase optimization complete. Steps = 44225, Chi_square = 1429.4617\n",
      "Trial 22\n",
      "Initial optimization complete. Steps = 36, Chi_square = 5261.1486\n",
      "Second phase optimization complete. Steps = 32499, Chi_square = 2127.1944\n",
      "Trial 23\n",
      "Initial optimization complete. Steps = 44, Chi_square = 4859.5618\n",
      "Second phase optimization complete. Steps = 47903, Chi_square = 1099.0312\n",
      "Trial 24\n",
      "Initial optimization complete. Steps = 32, Chi_square = 5365.3635\n",
      "Second phase optimization complete. Steps = 50046, Chi_square = 2989.3355\n",
      "Trial 25\n",
      "Initial optimization complete. Steps = 37, Chi_square = 4460.9921\n",
      "Second phase optimization complete. Steps = 37506, Chi_square = 1993.4678\n",
      "Calculation for segid A complete. Best index is 23 \n",
      "Calculating RMSF list for all atoms:\n",
      "Trial 1\n",
      "Initial optimization complete. Steps = 31, Chi_square = 2738.0795\n"
     ]
    },
    {
     "name": "stderr",
     "output_type": "stream",
     "text": [
      "/home/wjb/.conda/envs/openmscg/lib/python3.8/site-packages/numpy/core/fromnumeric.py:3464: RuntimeWarning: Mean of empty slice.\n",
      "  return _methods._mean(a, axis=axis, dtype=dtype,\n",
      "/home/wjb/.conda/envs/openmscg/lib/python3.8/site-packages/numpy/core/_methods.py:184: RuntimeWarning: invalid value encountered in divide\n",
      "  ret = um.true_divide(\n"
     ]
    },
    {
     "name": "stdout",
     "output_type": "stream",
     "text": [
      "Second phase optimization complete. Steps = 41012, Chi_square = 1616.3689\n",
      "Trial 2\n",
      "Initial optimization complete. Steps = 35, Chi_square = 2481.4036\n",
      "Second phase optimization complete. Steps = 19821, Chi_square = 1240.0256\n",
      "Trial 3\n",
      "Initial optimization complete. Steps = 39, Chi_square = 4632.7238\n",
      "Second phase optimization complete. Steps = 21995, Chi_square = 1219.2864\n",
      "Trial 4\n",
      "Initial optimization complete. Steps = 28, Chi_square = 2928.0949\n",
      "Second phase optimization complete. Steps = 27888, Chi_square = 1908.7379\n",
      "Trial 5\n",
      "Initial optimization complete. Steps = 28, Chi_square = 4467.7720\n",
      "Second phase optimization complete. Steps = 32634, Chi_square = 1215.6347\n",
      "Trial 6\n",
      "Initial optimization complete. Steps = 45, Chi_square = 2952.8778\n",
      "Second phase optimization complete. Steps = 24214, Chi_square = 1608.6076\n",
      "Trial 7\n",
      "Initial optimization complete. Steps = 34, Chi_square = 3221.6694\n",
      "Second phase optimization complete. Steps = 33476, Chi_square = 1074.8929\n",
      "Trial 8\n",
      "Initial optimization complete. Steps = 40, Chi_square = 2987.1187\n",
      "Second phase optimization complete. Steps = 29858, Chi_square = 1307.3806\n",
      "Trial 9\n",
      "Initial optimization complete. Steps = 38, Chi_square = 4383.8539\n",
      "Second phase optimization complete. Steps = 22236, Chi_square = 1642.6151\n",
      "Trial 10\n",
      "Initial optimization complete. Steps = 36, Chi_square = 4348.3724\n",
      "Second phase optimization complete. Steps = 27927, Chi_square = 2042.8483\n",
      "Trial 11\n",
      "Initial optimization complete. Steps = 37, Chi_square = 3805.5132\n",
      "Second phase optimization complete. Steps = 52367, Chi_square = 1179.4404\n",
      "Trial 12\n",
      "Initial optimization complete. Steps = 31, Chi_square = 3464.3787\n",
      "Second phase optimization complete. Steps = 34410, Chi_square = 1149.7361\n",
      "Trial 13\n",
      "Initial optimization complete. Steps = 29, Chi_square = 4349.6772\n",
      "Second phase optimization complete. Steps = 27876, Chi_square = 1744.7745\n",
      "Trial 14\n",
      "Initial optimization complete. Steps = 35, Chi_square = 3960.2361\n",
      "Second phase optimization complete. Steps = 20886, Chi_square = 1780.3948\n",
      "Trial 15\n",
      "Initial optimization complete. Steps = 37, Chi_square = 2398.7138\n",
      "Second phase optimization complete. Steps = 27467, Chi_square = 1039.1666\n",
      "Trial 16\n",
      "Initial optimization complete. Steps = 31, Chi_square = 3904.4255\n",
      "Second phase optimization complete. Steps = 44705, Chi_square = 1152.2292\n",
      "Trial 17\n",
      "Initial optimization complete. Steps = 31, Chi_square = 3826.4467\n",
      "Second phase optimization complete. Steps = 38050, Chi_square = 840.8062\n",
      "Trial 18\n",
      "Initial optimization complete. Steps = 40, Chi_square = 5284.2544\n",
      "Second phase optimization complete. Steps = 30512, Chi_square = 1115.8400\n",
      "Trial 19\n",
      "Initial optimization complete. Steps = 35, Chi_square = 4455.9431\n",
      "Second phase optimization complete. Steps = 46907, Chi_square = 1542.2340\n",
      "Trial 20\n",
      "Initial optimization complete. Steps = 35, Chi_square = 3870.2906\n",
      "Second phase optimization complete. Steps = 40672, Chi_square = 1245.8355\n",
      "Trial 21\n",
      "Initial optimization complete. Steps = 33, Chi_square = 4590.0972\n",
      "Second phase optimization complete. Steps = 19924, Chi_square = 1381.8862\n",
      "Trial 22\n",
      "Initial optimization complete. Steps = 38, Chi_square = 3186.7508\n",
      "Second phase optimization complete. Steps = 29001, Chi_square = 874.2535\n",
      "Trial 23\n",
      "Initial optimization complete. Steps = 39, Chi_square = 3239.3025\n",
      "Second phase optimization complete. Steps = 42041, Chi_square = 1048.1743\n",
      "Trial 24\n",
      "Initial optimization complete. Steps = 50, Chi_square = 4162.8752\n",
      "Second phase optimization complete. Steps = 20420, Chi_square = 978.1822\n",
      "Trial 25\n",
      "Initial optimization complete. Steps = 34, Chi_square = 3150.1443\n",
      "Second phase optimization complete. Steps = 24963, Chi_square = 1340.5504\n",
      "Calculation for segid B complete. Best index is 17 \n"
     ]
    }
   ],
   "source": [
    "##### generate cgmapping for chain A/B\n",
    "for segid in 'AB': # do kmc-cg for each chain A/B\n",
    "    ca_atoms = system_info.atoms.select_atoms(\"segid %s and name CA\" % segid) # select CA atoms\n",
    "    frames = [] # initialize the coordinates of CA atoms\n",
    "    for frame in system_info.trajectory[-700:]: # select the last 700 frames for clustering\n",
    "        frames.append(ca_atoms.positions) # append the positions of CA atoms to frames\n",
    "    frames = np.asarray(frames)\n",
    "\n",
    "    cluster = CG_cluster() # initialize CG_cluster\n",
    "    cluster.gamma = 100 # set gamma to 100\n",
    "    cluster.frames = frames # set frames\n",
    "    cluster.frame_num = frames.shape[0] # set frame_num\n",
    "    cluster.atom_num = frames.shape[1] # set atom_num\n",
    "    cluster.all_atom_num = frames.shape[1] # set all_atom_num\n",
    "    cluster.eq_positions = np.mean(frames, axis=0) # set eq_positions\n",
    "    cluster.fluctuation_traj = cluster.frames - np.asarray([cluster.eq_positions for k in range(cluster.frame_num)]) # set fluctuation_traj\n",
    "    cluster.calculate_rmsf() # calculate rmsf\n",
    "\n",
    "    all_chi_squares = [] # initialize all_chi_squares and store the temporary chi_square for each trial\n",
    "    \n",
    "    #####start editing#####\n",
    "    num = 0\n",
    "    if segid == 'A': # set #CG bead to 21 for chain A and 20 for chain B\n",
    "        num = 21\n",
    "    elif segid == 'B':\n",
    "        num = 20\n",
    "    #####end editing#####\n",
    "\n",
    "    for k in range(25): # run 25 trials for each chain\n",
    "        print(\"Trial %d\" % (k+1))\n",
    "        cluster.initialize_labels(num=num) # initialize labels with num clusters\n",
    "        cluster.optimize_chi_square(cluster_converge_steps=100, max_steps=100000, output_interval=0, filename=\"%s_%s%02d\" % (num, segid, k+1)) # optimize chi_square\n",
    "        # cluster_converge_steps: the number of steps for convergence\n",
    "        # max_steps: the maximum number of steps\n",
    "        # output_interval: the interval of outputing the results\n",
    "        # filename: the name of output file\n",
    "        all_chi_squares.append(cluster.chi_square) # append chi_square to all_chi_squares\n",
    "        \n",
    "    best_index = np.argmin(all_chi_squares) # find the index of the best chi_square\n",
    "    print(\"Calculation for segid %s complete. Best index is %d \" % (segid, best_index + 1))"
   ]
  },
  {
   "cell_type": "code",
   "execution_count": null,
   "metadata": {},
   "outputs": [],
   "source": [
    "####best results:\n",
    "####A:23 B:17"
   ]
  },
  {
   "cell_type": "code",
   "execution_count": 3,
   "metadata": {
    "tags": []
   },
   "outputs": [
    {
     "name": "stdout",
     "output_type": "stream",
     "text": [
      "Calculating RMSF list for all atoms:\n",
      "Calculating RMSF list for all atoms:\n"
     ]
    }
   ],
   "source": [
    "##### find the best cgmapping for chain A/B\n",
    "#####start editing#####\n",
    "best_ids = [23, 17]\n",
    "#####end editing#####\n",
    "for segid in \"AB\":\n",
    "    i = \"AB\".index(segid)\n",
    "    ca_atoms = system_info.atoms.select_atoms(\"segid %s and name CA\" % segid)\n",
    "    frames = []\n",
    "    for frame in system_info.trajectory:\n",
    "        frames.append(ca_atoms.positions)\n",
    "    frames = np.asarray(frames)\n",
    "\n",
    "    cluster = CG_cluster()\n",
    "    cluster.gamma = 100\n",
    "    cluster.frames = frames\n",
    "    cluster.frame_num = frames.shape[0]\n",
    "    cluster.atom_num = frames.shape[1]\n",
    "    cluster.all_atom_num = frames.shape[1]\n",
    "    cluster.eq_positions = np.mean(frames, axis=0)\n",
    "    cluster.fluctuation_traj = cluster.frames - np.asarray([cluster.eq_positions for k in range(cluster.frame_num)])\n",
    "    cluster.calculate_rmsf()\n",
    "\n",
    "    #####start editing#####\n",
    "    num = 0\n",
    "    if segid == 'A':\n",
    "        num = 21\n",
    "    elif segid == 'B':\n",
    "        num = 20\n",
    "    #####end editing#####\n",
    "    \n",
    "    cluster.read_labels_from_file(\"result_%s_%s%02d.txt\" % (num, segid, best_ids[i]))\n",
    "    #cluster.plot_labels(filename=\"%s%02d\" % (segid, best_ids[i]))\n",
    "    #cluster.visualize_labels(parmfile=\"../../../ref-trajs/rep1/md_3.part011_System.pdb\", trajfile=\"../../../ref-trajs/rep1/aligned_to_first_frame_system.xtc\")"
   ]
  },
  {
   "cell_type": "markdown",
   "metadata": {},
   "source": [
    "## Generate the overall CG map for Chain A and Chain B"
   ]
  },
  {
   "cell_type": "code",
   "execution_count": null,
   "metadata": {},
   "outputs": [],
   "source": [
    "# offset the residue index of the chains after chain A\n",
    "starter = 0\n",
    "starters = [0]\n",
    "for segid in 'AB':\n",
    "    ca_atoms = system_info.atoms.select_atoms(\"segid %s and name CA\" % segid)\n",
    "    starter += len(ca_atoms)\n",
    "    print(len(ca_atoms))\n",
    "    starters.append(starter)\n",
    "starters"
   ]
  },
  {
   "cell_type": "code",
   "execution_count": 10,
   "metadata": {},
   "outputs": [],
   "source": [
    "#####start#####\n",
    "resolution = 20\n",
    "label_nums = [23,17] #best result index\n",
    "nums = [21,20] #CG resolution, #chain A = 21, #chain B = 20\n",
    "#####end#####\n",
    "segids = \"AB\"\n",
    "mapping_labels = []\n",
    "for num, segid, label_num in zip(nums, segids, label_nums):\n",
    "    i = segids.index(segid)\n",
    "    cgfile = \"result_%d_%s%02d.txt\" % (num, segid, label_num)\n",
    "    with open(cgfile) as f:\n",
    "        aa = f.readlines()\n",
    "        for line in aa:\n",
    "            try:\n",
    "                lst = eval(line)\n",
    "                lst = list(np.array(lst)+starters[i])\n",
    "                lst[0]\n",
    "                new_lst = []\n",
    "                for item in lst:\n",
    "                    if type(item) not in (int, np.int64):\n",
    "                        new_lst.extend(list(range(item[0], item[1]+1)))\n",
    "                    else:\n",
    "                        new_lst = lst      \n",
    "                mapping_labels.append(new_lst)\n",
    "            except:\n",
    "                pass\n",
    "\n",
    "with open(\"result_overall.txt\", 'w') as f:\n",
    "    for k in range(len(mapping_labels)):\n",
    "        print(k, file=f)\n",
    "        print(mapping_labels[k], file=f)"
   ]
  },
  {
   "cell_type": "code",
   "execution_count": 51,
   "metadata": {},
   "outputs": [],
   "source": [
    "##type in the terminal to generate the yaml file, the AA-mapped CG trajectory (reference trajectory), henm, and lammps input files\n",
    "####start\n",
    "python CG_mapping.py -top=\"md.pdb\" -crd=\"md.trr\" -cg=\"result_overall.txt\" -o=\"arp23\"\n",
    "####end"
   ]
  }
 ],
 "metadata": {
  "kernelspec": {
   "display_name": "openmscg",
   "language": "python",
   "name": "openmscg"
  },
  "language_info": {
   "codemirror_mode": {
    "name": "ipython",
    "version": 3
   },
   "file_extension": ".py",
   "mimetype": "text/x-python",
   "name": "python",
   "nbconvert_exporter": "python",
   "pygments_lexer": "ipython3",
   "version": "3.8.12"
  },
  "vscode": {
   "interpreter": {
    "hash": "10c4836faa1edf41ad66cd2cdfe573986e174e944af95e31ac5bd5bc0e3a891e"
   }
  }
 },
 "nbformat": 4,
 "nbformat_minor": 4
}
